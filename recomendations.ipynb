{
 "cells": [
  {
   "cell_type": "code",
   "execution_count": 1,
   "metadata": {},
   "outputs": [],
   "source": [
    "from selenium import webdriver"
   ]
  },
  {
   "cell_type": "code",
   "execution_count": 2,
   "metadata": {},
   "outputs": [],
   "source": [
    "class recom():\n",
    "    def __init__(self):\n",
    "        self.driver = webdriver.Chrome(executable_path='F:/chromedriver.exe')\n",
    "        \n",
    "    def recom_info(self):\n",
    "        self.driver.get(url='https://www.imdb.com/chart/moviemeter/?ref_=nv_mv_mpm')\n",
    "        select = self.driver.find_element_by_xpath('//*[@id=\"lister-sort-by-options\"]')\n",
    "        select.click()\n",
    "        \n",
    "# test\n",
    "#bot = recom()\n",
    "#bot.recom_info()"
   ]
  },
  {
   "cell_type": "code",
   "execution_count": null,
   "metadata": {},
   "outputs": [],
   "source": []
  }
 ],
 "metadata": {
  "kernelspec": {
   "display_name": "Python 3",
   "language": "python",
   "name": "python3"
  },
  "language_info": {
   "codemirror_mode": {
    "name": "ipython",
    "version": 3
   },
   "file_extension": ".py",
   "mimetype": "text/x-python",
   "name": "python",
   "nbconvert_exporter": "python",
   "pygments_lexer": "ipython3",
   "version": "3.8.3"
  }
 },
 "nbformat": 4,
 "nbformat_minor": 4
}
