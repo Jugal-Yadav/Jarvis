{
 "cells": [
  {
   "cell_type": "code",
   "execution_count": 1,
   "metadata": {},
   "outputs": [],
   "source": [
    "from selenium import webdriver\n",
    "import pyttsx3 as p"
   ]
  },
  {
   "cell_type": "code",
   "execution_count": 2,
   "metadata": {},
   "outputs": [
    {
     "name": "stderr",
     "output_type": "stream",
     "text": [
      "Exception ignored in: <function BSTR.__del__ at 0x000002736C218C10>\n",
      "Traceback (most recent call last):\n",
      "  File \"F:\\Anaconda\\lib\\site-packages\\comtypes\\__init__.py\", line 1005, in __del__\n",
      "    def __del__(self, _free=windll.oleaut32.SysFreeString):\n",
      "KeyboardInterrupt: \n"
     ]
    }
   ],
   "source": [
    "class info():\n",
    "    def __init__(self):\n",
    "        self.driver = webdriver.Chrome(executable_path='F:/chromedriver.exe')\n",
    "        \n",
    "    def get_info(self, query):\n",
    "        self.query = query\n",
    "        self.driver.get(url=\"https://www.wikipedia.org/\")\n",
    "        search = self.driver.find_element_by_xpath('//*[@id=\"searchInput\"]')\n",
    "        search.click()\n",
    "        search.send_keys(query)\n",
    "        \n",
    "        enter = self.driver.find_element_by_xpath('//*[@id=\"search-form\"]/fieldset/button/i')\n",
    "        enter.click()\n",
    "        \n",
    "        #making jarvis to read\n",
    "        info = self.driver.find_element_by_xpath('//*[@id=\"mw-content-text\"]/div[1]/p[2]')\n",
    "        readable_text = info.text\n",
    "        engine = p.init()\n",
    "        engine.say(readable_text)\n",
    "        engine.runAndWait()\n",
    "        \n",
    "# test\n",
    "#bot = info()\n",
    "#bot.get_info(\"bell\")"
   ]
  },
  {
   "cell_type": "code",
   "execution_count": null,
   "metadata": {},
   "outputs": [],
   "source": []
  }
 ],
 "metadata": {
  "kernelspec": {
   "display_name": "Python 3",
   "language": "python",
   "name": "python3"
  },
  "language_info": {
   "codemirror_mode": {
    "name": "ipython",
    "version": 3
   },
   "file_extension": ".py",
   "mimetype": "text/x-python",
   "name": "python",
   "nbconvert_exporter": "python",
   "pygments_lexer": "ipython3",
   "version": "3.8.3"
  }
 },
 "nbformat": 4,
 "nbformat_minor": 4
}
