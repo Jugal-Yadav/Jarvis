{
 "cells": [
  {
   "cell_type": "code",
   "execution_count": 1,
   "metadata": {},
   "outputs": [],
   "source": [
    "import pyttsx3 as p"
   ]
  },
  {
   "cell_type": "code",
   "execution_count": 2,
   "metadata": {},
   "outputs": [],
   "source": [
    "engine = p.init()\n",
    "meanings = {\"certification\": \"the action or process of providing someone or something with an official document\"}\n",
    "translations = {\"certification\": \"Zertifizierung\"}"
   ]
  },
  {
   "cell_type": "code",
   "execution_count": 3,
   "metadata": {},
   "outputs": [],
   "source": [
    "def mean(name):\n",
    "    if name in meanings:\n",
    "        res = meanings[name]\n",
    "        engine.say(\"the meaning of\" + name + \"is that\" + res)\n",
    "        engine.runAndWait()\n",
    "        \n",
    "def translate(name):\n",
    "    if name in translations:\n",
    "        res = translations[name]\n",
    "        engine.say(\"The word translates to\" + res)\n",
    "        engine.runAndWait()\n",
    "        \n",
    "# test\n",
    "#mean(\"certification\")\n",
    "#translate(\"certification\")"
   ]
  },
  {
   "cell_type": "code",
   "execution_count": null,
   "metadata": {},
   "outputs": [],
   "source": []
  }
 ],
 "metadata": {
  "kernelspec": {
   "display_name": "Python 3",
   "language": "python",
   "name": "python3"
  },
  "language_info": {
   "codemirror_mode": {
    "name": "ipython",
    "version": 3
   },
   "file_extension": ".py",
   "mimetype": "text/x-python",
   "name": "python",
   "nbconvert_exporter": "python",
   "pygments_lexer": "ipython3",
   "version": "3.8.3"
  }
 },
 "nbformat": 4,
 "nbformat_minor": 4
}
