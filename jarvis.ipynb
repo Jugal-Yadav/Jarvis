{
 "cells": [
  {
   "cell_type": "code",
   "execution_count": 1,
   "metadata": {},
   "outputs": [],
   "source": [
    "import speech_recognition as sr\n",
    "import pyttsx3 as p\n",
    "from ipynb.fs.full.info_wiki import info\n",
    "from ipynb.fs.full.movie_reviews import *\n",
    "from ipynb.fs.full.music import *\n",
    "from ipynb.fs.full.recomendations import *\n",
    "from ipynb.fs.full.translations import *"
   ]
  },
  {
   "cell_type": "code",
   "execution_count": 2,
   "metadata": {},
   "outputs": [
    {
     "name": "stdout",
     "output_type": "stream",
     "text": [
      "check1\n",
      "I'm doing good thanks\n"
     ]
    }
   ],
   "source": [
    "#initial conversation\n",
    "rl = sr.Recognizer()\n",
    "engine = p.init()\n",
    "engine.say(\"hello sir, how are you doing today?\")\n",
    "engine.runAndWait()\n",
    "with sr.Microphone() as source:\n",
    "    rl.adjust_for_ambient_noise(source)\n",
    "    print(\"check1\")\n",
    "    audio = rl.listen(source)\n",
    "    try:\n",
    "        text = rl.recognize_google(audio)\n",
    "        print(text)\n",
    "    except sr.UnknownValueError:\n",
    "        print(\"\")\n",
    "    except sr.RequestError as e:\n",
    "        print(\"\")"
   ]
  },
  {
   "cell_type": "code",
   "execution_count": 3,
   "metadata": {},
   "outputs": [
    {
     "name": "stdout",
     "output_type": "stream",
     "text": [
      "check2\n"
     ]
    }
   ],
   "source": [
    "#cue for giving instructions\n",
    "engine.say(\"what would you like me to do?\")\n",
    "engine.runAndWait()\n",
    "print(\"check2\")"
   ]
  },
  {
   "cell_type": "code",
   "execution_count": 4,
   "metadata": {},
   "outputs": [
    {
     "name": "stdout",
     "output_type": "stream",
     "text": [
      "I'm doing good thanks\n"
     ]
    }
   ],
   "source": [
    "#giving instructions\n",
    "r2 = sr.Recognizer()\n",
    "with sr.Microphone() as source:\n",
    "    r2.adjust_for_ambient_noise(source)\n",
    "    audio = r2.listen(source)\n",
    "    try:\n",
    "        instruction = r2.recognize_google(audio)\n",
    "        print(text)\n",
    "    except sr.UnknownValueError:\n",
    "        print(\"\")\n",
    "    except sr.RequestError as e:\n",
    "        print(\"\")"
   ]
  },
  {
   "cell_type": "code",
   "execution_count": 5,
   "metadata": {},
   "outputs": [
    {
     "ename": "KeyboardInterrupt",
     "evalue": "",
     "output_type": "error",
     "traceback": [
      "\u001b[1;31m---------------------------------------------------------------------------\u001b[0m",
      "\u001b[1;31mKeyboardInterrupt\u001b[0m                         Traceback (most recent call last)",
      "\u001b[1;32m<ipython-input-5-b683bbea4102>\u001b[0m in \u001b[0;36m<module>\u001b[1;34m\u001b[0m\n\u001b[0;32m      5\u001b[0m     \u001b[0mengine\u001b[0m\u001b[1;33m.\u001b[0m\u001b[0mrunAndWait\u001b[0m\u001b[1;33m(\u001b[0m\u001b[1;33m)\u001b[0m\u001b[1;33m\u001b[0m\u001b[1;33m\u001b[0m\u001b[0m\n\u001b[0;32m      6\u001b[0m     \u001b[1;32mwith\u001b[0m \u001b[0msr\u001b[0m\u001b[1;33m.\u001b[0m\u001b[0mMicrophone\u001b[0m\u001b[1;33m(\u001b[0m\u001b[1;33m)\u001b[0m \u001b[1;32mas\u001b[0m \u001b[0msource1\u001b[0m\u001b[1;33m:\u001b[0m\u001b[1;33m\u001b[0m\u001b[1;33m\u001b[0m\u001b[0m\n\u001b[1;32m----> 7\u001b[1;33m         \u001b[0maudio2\u001b[0m \u001b[1;33m=\u001b[0m \u001b[0mr3\u001b[0m\u001b[1;33m.\u001b[0m\u001b[0mlisten\u001b[0m\u001b[1;33m(\u001b[0m\u001b[0msource1\u001b[0m\u001b[1;33m)\u001b[0m\u001b[1;33m\u001b[0m\u001b[1;33m\u001b[0m\u001b[0m\n\u001b[0m\u001b[0;32m      8\u001b[0m         \u001b[1;32mtry\u001b[0m\u001b[1;33m:\u001b[0m\u001b[1;33m\u001b[0m\u001b[1;33m\u001b[0m\u001b[0m\n\u001b[0;32m      9\u001b[0m             \u001b[0minformation\u001b[0m \u001b[1;33m=\u001b[0m \u001b[0mr3\u001b[0m\u001b[1;33m.\u001b[0m\u001b[0mrecognize_google\u001b[0m\u001b[1;33m(\u001b[0m\u001b[0maudio2\u001b[0m\u001b[1;33m)\u001b[0m\u001b[1;33m\u001b[0m\u001b[1;33m\u001b[0m\u001b[0m\n",
      "\u001b[1;32mF:\\Anaconda\\lib\\site-packages\\speech_recognition\\__init__.py\u001b[0m in \u001b[0;36mlisten\u001b[1;34m(self, source, timeout, phrase_time_limit, snowboy_configuration)\u001b[0m\n\u001b[0;32m    650\u001b[0m                     \u001b[1;32mbreak\u001b[0m\u001b[1;33m\u001b[0m\u001b[1;33m\u001b[0m\u001b[0m\n\u001b[0;32m    651\u001b[0m \u001b[1;33m\u001b[0m\u001b[0m\n\u001b[1;32m--> 652\u001b[1;33m                 \u001b[0mbuffer\u001b[0m \u001b[1;33m=\u001b[0m \u001b[0msource\u001b[0m\u001b[1;33m.\u001b[0m\u001b[0mstream\u001b[0m\u001b[1;33m.\u001b[0m\u001b[0mread\u001b[0m\u001b[1;33m(\u001b[0m\u001b[0msource\u001b[0m\u001b[1;33m.\u001b[0m\u001b[0mCHUNK\u001b[0m\u001b[1;33m)\u001b[0m\u001b[1;33m\u001b[0m\u001b[1;33m\u001b[0m\u001b[0m\n\u001b[0m\u001b[0;32m    653\u001b[0m                 \u001b[1;32mif\u001b[0m \u001b[0mlen\u001b[0m\u001b[1;33m(\u001b[0m\u001b[0mbuffer\u001b[0m\u001b[1;33m)\u001b[0m \u001b[1;33m==\u001b[0m \u001b[1;36m0\u001b[0m\u001b[1;33m:\u001b[0m \u001b[1;32mbreak\u001b[0m  \u001b[1;31m# reached end of the stream\u001b[0m\u001b[1;33m\u001b[0m\u001b[1;33m\u001b[0m\u001b[0m\n\u001b[0;32m    654\u001b[0m                 \u001b[0mframes\u001b[0m\u001b[1;33m.\u001b[0m\u001b[0mappend\u001b[0m\u001b[1;33m(\u001b[0m\u001b[0mbuffer\u001b[0m\u001b[1;33m)\u001b[0m\u001b[1;33m\u001b[0m\u001b[1;33m\u001b[0m\u001b[0m\n",
      "\u001b[1;32mF:\\Anaconda\\lib\\site-packages\\speech_recognition\\__init__.py\u001b[0m in \u001b[0;36mread\u001b[1;34m(self, size)\u001b[0m\n\u001b[0;32m    159\u001b[0m \u001b[1;33m\u001b[0m\u001b[0m\n\u001b[0;32m    160\u001b[0m         \u001b[1;32mdef\u001b[0m \u001b[0mread\u001b[0m\u001b[1;33m(\u001b[0m\u001b[0mself\u001b[0m\u001b[1;33m,\u001b[0m \u001b[0msize\u001b[0m\u001b[1;33m)\u001b[0m\u001b[1;33m:\u001b[0m\u001b[1;33m\u001b[0m\u001b[1;33m\u001b[0m\u001b[0m\n\u001b[1;32m--> 161\u001b[1;33m             \u001b[1;32mreturn\u001b[0m \u001b[0mself\u001b[0m\u001b[1;33m.\u001b[0m\u001b[0mpyaudio_stream\u001b[0m\u001b[1;33m.\u001b[0m\u001b[0mread\u001b[0m\u001b[1;33m(\u001b[0m\u001b[0msize\u001b[0m\u001b[1;33m,\u001b[0m \u001b[0mexception_on_overflow\u001b[0m\u001b[1;33m=\u001b[0m\u001b[1;32mFalse\u001b[0m\u001b[1;33m)\u001b[0m\u001b[1;33m\u001b[0m\u001b[1;33m\u001b[0m\u001b[0m\n\u001b[0m\u001b[0;32m    162\u001b[0m \u001b[1;33m\u001b[0m\u001b[0m\n\u001b[0;32m    163\u001b[0m         \u001b[1;32mdef\u001b[0m \u001b[0mclose\u001b[0m\u001b[1;33m(\u001b[0m\u001b[0mself\u001b[0m\u001b[1;33m)\u001b[0m\u001b[1;33m:\u001b[0m\u001b[1;33m\u001b[0m\u001b[1;33m\u001b[0m\u001b[0m\n",
      "\u001b[1;32mF:\\Anaconda\\lib\\site-packages\\pyaudio.py\u001b[0m in \u001b[0;36mread\u001b[1;34m(self, num_frames, exception_on_overflow)\u001b[0m\n\u001b[0;32m    606\u001b[0m                           paCanNotReadFromAnOutputOnlyStream)\n\u001b[0;32m    607\u001b[0m \u001b[1;33m\u001b[0m\u001b[0m\n\u001b[1;32m--> 608\u001b[1;33m         \u001b[1;32mreturn\u001b[0m \u001b[0mpa\u001b[0m\u001b[1;33m.\u001b[0m\u001b[0mread_stream\u001b[0m\u001b[1;33m(\u001b[0m\u001b[0mself\u001b[0m\u001b[1;33m.\u001b[0m\u001b[0m_stream\u001b[0m\u001b[1;33m,\u001b[0m \u001b[0mnum_frames\u001b[0m\u001b[1;33m,\u001b[0m \u001b[0mexception_on_overflow\u001b[0m\u001b[1;33m)\u001b[0m\u001b[1;33m\u001b[0m\u001b[1;33m\u001b[0m\u001b[0m\n\u001b[0m\u001b[0;32m    609\u001b[0m \u001b[1;33m\u001b[0m\u001b[0m\n\u001b[0;32m    610\u001b[0m     \u001b[1;32mdef\u001b[0m \u001b[0mget_read_available\u001b[0m\u001b[1;33m(\u001b[0m\u001b[0mself\u001b[0m\u001b[1;33m)\u001b[0m\u001b[1;33m:\u001b[0m\u001b[1;33m\u001b[0m\u001b[1;33m\u001b[0m\u001b[0m\n",
      "\u001b[1;31mKeyboardInterrupt\u001b[0m: "
     ]
    }
   ],
   "source": [
    "#getting info from wiki\n",
    "r3 = sr.Recognizer()\n",
    "if \"information\" in instruction:\n",
    "    engine.say(\"information about what?\")\n",
    "    engine.runAndWait()\n",
    "    with sr.Microphone() as source1:\n",
    "        audio2 = r3.listen(source1)\n",
    "        try:\n",
    "            information = r3.recognize_google(audio2)\n",
    "            bot = info()\n",
    "            bot.get_info(information)\n",
    "        except sr.UnknownValueError:\n",
    "            print(\"\")\n",
    "        except sr.RequestError as e:\n",
    "            print(\"\")"
   ]
  },
  {
   "cell_type": "code",
   "execution_count": null,
   "metadata": {},
   "outputs": [],
   "source": [
    "#movie rating\n",
    "r4 = sr.Recognizer()\n",
    "if \"review\" in instruction:\n",
    "    engine.say(\"what is the name of the movie?\")\n",
    "    engine.runAndWait()\n",
    "    with sr.Microphone() as source2:\n",
    "        audio3 = r4.listen(source2)\n",
    "        try:\n",
    "            rating = r4.recognize_google(audio3)\n",
    "            bot = Movie()\n",
    "            bot.movie_review(rating)\n",
    "        except sr.UnknownValueError:\n",
    "            print(\"\")\n",
    "        except sr.RequestError as e:\n",
    "            print(\"\")    "
   ]
  },
  {
   "cell_type": "code",
   "execution_count": null,
   "metadata": {},
   "outputs": [],
   "source": [
    "#playing music\n",
    "r5 = sr.Recognizer()\n",
    "if \"music\" in instruction:\n",
    "    engine.say(\"which artist you want me to play?\")\n",
    "    engine.runAndWait()\n",
    "    with sr.Microphone() as source3:\n",
    "        audio4 = r5.listen(source3)\n",
    "        try:\n",
    "            video = r5.recognize_google(audio4)\n",
    "            bot = music()\n",
    "            bot.play(video)\n",
    "        except sr.UnknownValueError:\n",
    "            print(\"\")\n",
    "        except sr.RequestError as e:\n",
    "            print(\"\")    "
   ]
  },
  {
   "cell_type": "code",
   "execution_count": null,
   "metadata": {},
   "outputs": [],
   "source": [
    "#movie recomendation\n",
    "if \"recommendation\" in instruction:\n",
    "    engine.say(\"here are the list of movies you can choose to watch from?\")\n",
    "    engine.runAndWait()\n",
    "    bot = recom()\n",
    "    bot.recom_info()"
   ]
  },
  {
   "cell_type": "code",
   "execution_count": null,
   "metadata": {},
   "outputs": [],
   "source": [
    "#transalation\n",
    "r6 = sr.Recognizer()\n",
    "if \"meaning\" in instruction:\n",
    "    engine.say(\"Which word sir?\")\n",
    "    engine.runAndWait()\n",
    "    with sr.Microphone() as source4:\n",
    "        audio5 = r6.listen(source4)\n",
    "        try:\n",
    "            word1 = r6.recognize_google(audio5)\n",
    "            translate(word1)\n",
    "        except sr.UnknownValueError:\n",
    "            print(\"\")\n",
    "        except sr.RequestError as e:\n",
    "            print(\"\")     "
   ]
  }
 ],
 "metadata": {
  "kernelspec": {
   "display_name": "Python 3",
   "language": "python",
   "name": "python3"
  },
  "language_info": {
   "codemirror_mode": {
    "name": "ipython",
    "version": 3
   },
   "file_extension": ".py",
   "mimetype": "text/x-python",
   "name": "python",
   "nbconvert_exporter": "python",
   "pygments_lexer": "ipython3",
   "version": "3.8.3"
  }
 },
 "nbformat": 4,
 "nbformat_minor": 4
}
